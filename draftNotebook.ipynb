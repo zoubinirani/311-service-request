{
 "cells": [
  {
   "cell_type": "markdown",
   "metadata": {},
   "source": [
    "### Import Packages"
   ]
  },
  {
   "cell_type": "code",
   "execution_count": 1,
   "metadata": {
    "collapsed": false
   },
   "outputs": [],
   "source": [
    "import json\n",
    "import requests\n",
    "import numpy as np\n",
    "import pandas as pd\n",
    "import datetime\n",
    "from pandas.io.json import json_normalize"
   ]
  },
  {
   "cell_type": "code",
   "execution_count": 2,
   "metadata": {
    "collapsed": false
   },
   "outputs": [],
   "source": [
    "startDate = \"2017-01-01\"\n",
    "datelist = pd.date_range(pd.to_datetime(startDate), periods=366).tolist() #1 year of data"
   ]
  },
  {
   "cell_type": "code",
   "execution_count": 3,
   "metadata": {
    "collapsed": false
   },
   "outputs": [],
   "source": [
    "requestsDataFrame = pd.DataFrame()\n",
    "\n",
    "for index in range(len(datelist)-1):\n",
    "    day = str(datelist[index].date())\n",
    "    nextDay = str(datelist[index+1].date())\n",
    "    url = \"\"\"https://secure.toronto.ca/webwizard/ws/requests.json?start_date=\"\"\" + day + \"\"\"T00:00:00Z&end_date=\"\"\" + nextDay + \"\"\"T00:00:00Z&jurisdiction_id=toronto.ca\"\"\"\n",
    "    response = requests.get(url)\n",
    "    response = json_normalize(response.json()['service_requests'])\n",
    "    assert response.shape[0] < 1000\n",
    "    requestsDataFrame = pd.concat([requestsDataFrame, response])"
   ]
  },
  {
   "cell_type": "code",
   "execution_count": 38,
   "metadata": {
    "collapsed": false
   },
   "outputs": [],
   "source": [
    "requestsDataFrame.to_pickle(\"./rawData.pkl\")"
   ]
  },
  {
   "cell_type": "markdown",
   "metadata": {},
   "source": [
    "### Exploratory Data Analysis"
   ]
  },
  {
   "cell_type": "code",
   "execution_count": 42,
   "metadata": {
    "collapsed": false
   },
   "outputs": [
    {
     "data": {
      "text/plain": [
       "365"
      ]
     },
     "execution_count": 42,
     "metadata": {},
     "output_type": "execute_result"
    }
   ],
   "source": [
    "assert len(pd.to_datetime(requestsDataFrame.requested_datetime).dt.date.unique()) == 365"
   ]
  }
 ],
 "metadata": {
  "kernelspec": {
   "display_name": "Python 3",
   "language": "python",
   "name": "python3"
  },
  "language_info": {
   "codemirror_mode": {
    "name": "ipython",
    "version": 3
   },
   "file_extension": ".py",
   "mimetype": "text/x-python",
   "name": "python",
   "nbconvert_exporter": "python",
   "pygments_lexer": "ipython3",
   "version": "3.6.0"
  }
 },
 "nbformat": 4,
 "nbformat_minor": 2
}
