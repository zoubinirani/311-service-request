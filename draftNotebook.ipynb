{
 "cells": [
  {
   "cell_type": "markdown",
   "metadata": {},
   "source": [
    "### Import Packages"
   ]
  },
  {
   "cell_type": "code",
   "execution_count": 225,
   "metadata": {
    "collapsed": false
   },
   "outputs": [],
   "source": [
    "import numpy as np\n",
    "import pandas as pd\n",
    "import json\n",
    "import requests\n",
    "import matplotlib\n",
    "import matplotlib.pyplot as plt\n",
    "import matplotlib.dates as mdates\n",
    "import seaborn as sns\n",
    "import datetime\n",
    "import folium\n",
    "from folium import plugins\n",
    "\n",
    "from pandas.io.json import json_normalize\n",
    "%matplotlib inline"
   ]
  },
  {
   "cell_type": "markdown",
   "metadata": {},
   "source": [
    "### Load 1 Year of Data"
   ]
  },
  {
   "cell_type": "code",
   "execution_count": 2,
   "metadata": {
    "collapsed": false
   },
   "outputs": [],
   "source": [
    "# startDate = \"2017-01-01\"\n",
    "# datelist = pd.date_range(pd.to_datetime(startDate), periods=366).tolist() #1 year of data"
   ]
  },
  {
   "cell_type": "code",
   "execution_count": 3,
   "metadata": {
    "collapsed": false
   },
   "outputs": [],
   "source": [
    "# requestsDataFrame = pd.DataFrame()\n",
    "\n",
    "# for index in range(len(datelist)-1):\n",
    "#     day = str(datelist[index].date())\n",
    "#     nextDay = str(datelist[index+1].date())\n",
    "#     url = \"\"\"https://secure.toronto.ca/webwizard/ws/requests.json?start_date=\"\"\" + day + \"\"\"T00:00:00Z&end_date=\"\"\" + nextDay + \"\"\"T00:00:00Z&jurisdiction_id=toronto.ca\"\"\"\n",
    "#     response = requests.get(url)\n",
    "#     response = json_normalize(response.json()['service_requests'])\n",
    "#     assert response.shape[0] < 1000\n",
    "#     requestsDataFrame = pd.concat([requestsDataFrame, response])"
   ]
  },
  {
   "cell_type": "code",
   "execution_count": 38,
   "metadata": {
    "collapsed": false
   },
   "outputs": [],
   "source": [
    "# requestsDataFrame.to_pickle(\"./rawData.pkl\")"
   ]
  },
  {
   "cell_type": "code",
   "execution_count": 197,
   "metadata": {
    "collapsed": true
   },
   "outputs": [],
   "source": [
    "requestsDataFrame = pd.read_pickle(\"rawData.pkl\")"
   ]
  },
  {
   "cell_type": "markdown",
   "metadata": {},
   "source": [
    "### Basic data cleaning"
   ]
  },
  {
   "cell_type": "code",
   "execution_count": 198,
   "metadata": {
    "collapsed": false
   },
   "outputs": [],
   "source": [
    "requestsDataFrame.reset_index(inplace = True)\n",
    "requestsDataFrame.drop(['index'], axis = 1, inplace = True)"
   ]
  },
  {
   "cell_type": "code",
   "execution_count": 199,
   "metadata": {
    "collapsed": false
   },
   "outputs": [],
   "source": [
    "requestsDataFrame.requested_datetime = pd.to_datetime(requestsDataFrame.requested_datetime).dt.date\n",
    "requestsDataFrame.expected_datetime = pd.to_datetime(requestsDataFrame.expected_datetime).dt.date\n",
    "requestsDataFrame.updated_datetime = pd.to_datetime(requestsDataFrame.updated_datetime).dt.date"
   ]
  },
  {
   "cell_type": "code",
   "execution_count": 200,
   "metadata": {
    "collapsed": false
   },
   "outputs": [],
   "source": [
    "#remove duplicate service_request_id's -> take latest updated datetime\n",
    "rows = requestsDataFrame.groupby(\"service_request_id\")['updated_datetime'].transform(max) == requestsDataFrame['updated_datetime']\n",
    "requestsDataFrame = requestsDataFrame[rows]\n",
    "\n",
    "requestsDataFrame = requestsDataFrame.drop_duplicates()"
   ]
  },
  {
   "cell_type": "markdown",
   "metadata": {},
   "source": [
    "### Assertions"
   ]
  },
  {
   "cell_type": "code",
   "execution_count": 201,
   "metadata": {
    "collapsed": false
   },
   "outputs": [],
   "source": [
    "#check if no duplicate service_request_id's\n",
    "assert requestsDataFrame.shape[0] == len(requestsDataFrame['service_request_id'].unique())"
   ]
  },
  {
   "cell_type": "code",
   "execution_count": 202,
   "metadata": {
    "collapsed": true
   },
   "outputs": [],
   "source": [
    "# Ensure number of days == 365\n",
    "assert len(pd.to_datetime(requestsDataFrame.requested_datetime).dt.date.unique()) == 365"
   ]
  },
  {
   "cell_type": "markdown",
   "metadata": {},
   "source": [
    "### EDA"
   ]
  },
  {
   "cell_type": "code",
   "execution_count": 203,
   "metadata": {
    "collapsed": true
   },
   "outputs": [],
   "source": [
    "columns = [\"service_request_id\", \"lat\", \"long\", \"service_name\", \"requested_datetime\", \"expected_datetime\",\n",
    "           \"updated_datetime\", \"status\", \"status_notes\"]\n",
    "requestsDataFrame = requestsDataFrame[columns]"
   ]
  },
  {
   "cell_type": "code",
   "execution_count": 220,
   "metadata": {
    "collapsed": false
   },
   "outputs": [
    {
     "data": {
      "text/html": [
       "<div>\n",
       "<table border=\"1\" class=\"dataframe\">\n",
       "  <thead>\n",
       "    <tr style=\"text-align: right;\">\n",
       "      <th></th>\n",
       "      <th>service_name</th>\n",
       "    </tr>\n",
       "    <tr>\n",
       "      <th>service_name</th>\n",
       "      <th></th>\n",
       "    </tr>\n",
       "  </thead>\n",
       "  <tbody>\n",
       "    <tr>\n",
       "      <th>Bridge - Graffiti Complaint</th>\n",
       "      <td>363</td>\n",
       "    </tr>\n",
       "    <tr>\n",
       "      <th>Graffiti</th>\n",
       "      <td>2127</td>\n",
       "    </tr>\n",
       "    <tr>\n",
       "      <th>Litter / Bin / Graffiti on Bin</th>\n",
       "      <td>22</td>\n",
       "    </tr>\n",
       "    <tr>\n",
       "      <th>Road - Graffiti Complaint</th>\n",
       "      <td>111</td>\n",
       "    </tr>\n",
       "    <tr>\n",
       "      <th>Road - Pot hole</th>\n",
       "      <td>11511</td>\n",
       "    </tr>\n",
       "    <tr>\n",
       "      <th>Sidewalk - Graffiti Complaint</th>\n",
       "      <td>284</td>\n",
       "    </tr>\n",
       "  </tbody>\n",
       "</table>\n",
       "</div>"
      ],
      "text/plain": [
       "                                service_name\n",
       "service_name                                \n",
       "Bridge - Graffiti Complaint              363\n",
       "Graffiti                                2127\n",
       "Litter / Bin / Graffiti on Bin            22\n",
       "Road - Graffiti Complaint                111\n",
       "Road - Pot hole                        11511\n",
       "Sidewalk - Graffiti Complaint            284"
      ]
     },
     "execution_count": 220,
     "metadata": {},
     "output_type": "execute_result"
    }
   ],
   "source": [
    "pd.DataFrame(requestsDataFrame.groupby('service_name')['service_name'].count())"
   ]
  },
  {
   "cell_type": "code",
   "execution_count": 221,
   "metadata": {
    "collapsed": false
   },
   "outputs": [
    {
     "data": {
      "text/html": [
       "<div>\n",
       "<table border=\"1\" class=\"dataframe\">\n",
       "  <thead>\n",
       "    <tr style=\"text-align: right;\">\n",
       "      <th></th>\n",
       "      <th>status</th>\n",
       "    </tr>\n",
       "    <tr>\n",
       "      <th>status</th>\n",
       "      <th></th>\n",
       "    </tr>\n",
       "  </thead>\n",
       "  <tbody>\n",
       "    <tr>\n",
       "      <th>closed</th>\n",
       "      <td>14212</td>\n",
       "    </tr>\n",
       "    <tr>\n",
       "      <th>open</th>\n",
       "      <td>206</td>\n",
       "    </tr>\n",
       "  </tbody>\n",
       "</table>\n",
       "</div>"
      ],
      "text/plain": [
       "        status\n",
       "status        \n",
       "closed   14212\n",
       "open       206"
      ]
     },
     "execution_count": 221,
     "metadata": {},
     "output_type": "execute_result"
    }
   ],
   "source": [
    "pd.DataFrame(requestsDataFrame.groupby('status')['status'].count())"
   ]
  },
  {
   "cell_type": "code",
   "execution_count": 222,
   "metadata": {
    "collapsed": false
   },
   "outputs": [
    {
     "data": {
      "text/html": [
       "<div>\n",
       "<table border=\"1\" class=\"dataframe\">\n",
       "  <thead>\n",
       "    <tr style=\"text-align: right;\">\n",
       "      <th></th>\n",
       "      <th>status_notes</th>\n",
       "    </tr>\n",
       "    <tr>\n",
       "      <th>status_notes</th>\n",
       "      <th></th>\n",
       "    </tr>\n",
       "  </thead>\n",
       "  <tbody>\n",
       "    <tr>\n",
       "      <th>Cancelled - The request may be a duplicate, work is previously scheduled or no work is required.</th>\n",
       "      <td>363</td>\n",
       "    </tr>\n",
       "    <tr>\n",
       "      <th>Completed - The request has been concluded.</th>\n",
       "      <td>13849</td>\n",
       "    </tr>\n",
       "    <tr>\n",
       "      <th>In progress - The request has been scheduled.</th>\n",
       "      <td>30</td>\n",
       "    </tr>\n",
       "    <tr>\n",
       "      <th>In progress - The request is being investigated, assessed and/or responded to; additional work may be required, if applicable.</th>\n",
       "      <td>176</td>\n",
       "    </tr>\n",
       "  </tbody>\n",
       "</table>\n",
       "</div>"
      ],
      "text/plain": [
       "                                                    status_notes\n",
       "status_notes                                                    \n",
       "Cancelled - The request may be a duplicate, wor...           363\n",
       "Completed - The request has been concluded.                13849\n",
       "In progress - The request has been scheduled.                 30\n",
       "In progress - The request is being investigated...           176"
      ]
     },
     "execution_count": 222,
     "metadata": {},
     "output_type": "execute_result"
    }
   ],
   "source": [
    "pd.DataFrame(requestsDataFrame.groupby('status_notes')['status_notes'].count())"
   ]
  },
  {
   "cell_type": "code",
   "execution_count": 290,
   "metadata": {
    "collapsed": false
   },
   "outputs": [
    {
     "data": {
      "text/plain": [
       "<matplotlib.text.Text at 0x7f873ac3e160>"
      ]
     },
     "execution_count": 290,
     "metadata": {},
     "output_type": "execute_result"
    },
    {
     "data": {
      "image/png": "[encoded data removed]",
      "text/plain": [
       "<matplotlib.figure.Figure at 0x7f873abeb940>"
      ]
     },
     "metadata": {},
     "output_type": "display_data"
    }
   ],
   "source": [
    "#Count of Requested Date\n",
    "requestedDate = pd.DataFrame(requestsDataFrame.groupby(['requested_datetime'])['requested_datetime'].count())\n",
    "fig, ax = plt.subplots()\n",
    "ax.plot(requestedDate['requested_datetime'].index, requestedDate['requested_datetime'].values,'o', color='black')\n",
    "ax.set_title('Count of Requested DataFrame')"
   ]
  },
  {
   "cell_type": "code",
   "execution_count": 289,
   "metadata": {
    "collapsed": false
   },
   "outputs": [
    {
     "data": {
      "text/plain": [
       "<matplotlib.text.Text at 0x7f873aaadbe0>"
      ]
     },
     "execution_count": 289,
     "metadata": {},
     "output_type": "execute_result"
    },
    {
     "data": {
      "image/png": "[encoded data removed]",
      "text/plain": [
       "<matplotlib.figure.Figure at 0x7f873eaac6d8>"
      ]
     },
     "metadata": {},
     "output_type": "display_data"
    }
   ],
   "source": [
    "#Count of Expected Date\n",
    "expectedDate = pd.DataFrame(requestsDataFrame.groupby(['expected_datetime'])['expected_datetime'].count())\n",
    "fig, ax = plt.subplots()\n",
    "ax.plot(expectedDate['expected_datetime'].index, expectedDate['expected_datetime'].values,'o', color='black')\n",
    "ax.set_title('Count of Expected Date')"
   ]
  },
  {
   "cell_type": "code",
   "execution_count": 288,
   "metadata": {
    "collapsed": false
   },
   "outputs": [
    {
     "data": {
      "text/plain": [
       "<matplotlib.text.Text at 0x7f873a79ad68>"
      ]
     },
     "execution_count": 288,
     "metadata": {},
     "output_type": "execute_result"
    },
    {
     "data": {
      "image/png": "[encoded data removed]",
      "text/plain": [
       "<matplotlib.figure.Figure at 0x7f873a80b630>"
      ]
     },
     "metadata": {},
     "output_type": "display_data"
    }
   ],
   "source": [
    "#Count of Updated Date\n",
    "updatedDate = pd.DataFrame(requestsDataFrame.groupby(['updated_datetime'])['updated_datetime'].count())\n",
    "fig, ax = plt.subplots()\n",
    "ax.plot(updatedDate['updated_datetime'].index, updatedDate['updated_datetime'].values,'o', color='black')\n",
    "ax.set_title('Count of Updated Date')"
   ]
  },
  {
   "cell_type": "code",
   "execution_count": 338,
   "metadata": {
    "collapsed": false
   },
   "outputs": [
    {
     "data": {
      "image/png": "[encoded data removed]",
      "text/plain": [
       "<matplotlib.figure.Figure at 0x7f873ae48c18>"
      ]
     },
     "metadata": {},
     "output_type": "display_data"
    }
   ],
   "source": [
    "#Count of Time Delay In Days (expected time vs. requestedtime)\n",
    "requestsDataFrame['TimeDelay'] = requestsDataFrame['expected_datetime']-requestsDataFrame['requested_datetime']\n",
    "requestsDataFrame['TimeDelay'] = requestsDataFrame['TimeDelay'].dt.days\n",
    "TimeDelay = pd.DataFrame(requestsDataFrame.groupby(['TimeDelay'])['TimeDelay'].count())\n",
    "fig, ax = plt.subplots()\n",
    "ax.plot(TimeDelay['TimeDelay'].index, TimeDelay['TimeDelay'].values,'o', color='black')\n",
    "ax.set_title('Count of Time Delay (log scale)')\n",
    "plt.yscale('log')"
   ]
  },
  {
   "cell_type": "code",
   "execution_count": 324,
   "metadata": {
    "collapsed": false
   },
   "outputs": [
    {
     "data": {
      "text/html": [
       "<div>\n",
       "<table border=\"1\" class=\"dataframe\">\n",
       "  <thead>\n",
       "    <tr style=\"text-align: right;\">\n",
       "      <th></th>\n",
       "      <th>TimeDelay</th>\n",
       "    </tr>\n",
       "    <tr>\n",
       "      <th>service_name</th>\n",
       "      <th></th>\n",
       "    </tr>\n",
       "  </thead>\n",
       "  <tbody>\n",
       "    <tr>\n",
       "      <th>Bridge - Graffiti Complaint</th>\n",
       "      <td>52.931129</td>\n",
       "    </tr>\n",
       "    <tr>\n",
       "      <th>Graffiti</th>\n",
       "      <td>8.385230</td>\n",
       "    </tr>\n",
       "    <tr>\n",
       "      <th>Litter / Bin / Graffiti on Bin</th>\n",
       "      <td>13.318182</td>\n",
       "    </tr>\n",
       "    <tr>\n",
       "      <th>Road - Graffiti Complaint</th>\n",
       "      <td>34.189189</td>\n",
       "    </tr>\n",
       "    <tr>\n",
       "      <th>Road - Pot hole</th>\n",
       "      <td>418.814960</td>\n",
       "    </tr>\n",
       "    <tr>\n",
       "      <th>Sidewalk - Graffiti Complaint</th>\n",
       "      <td>33.169014</td>\n",
       "    </tr>\n",
       "  </tbody>\n",
       "</table>\n",
       "</div>"
      ],
      "text/plain": [
       "                                 TimeDelay\n",
       "service_name                              \n",
       "Bridge - Graffiti Complaint      52.931129\n",
       "Graffiti                          8.385230\n",
       "Litter / Bin / Graffiti on Bin   13.318182\n",
       "Road - Graffiti Complaint        34.189189\n",
       "Road - Pot hole                 418.814960\n",
       "Sidewalk - Graffiti Complaint    33.169014"
      ]
     },
     "execution_count": 324,
     "metadata": {},
     "output_type": "execute_result"
    }
   ],
   "source": [
    "#Expected Number of Days To Complete\n",
    "pd.DataFrame(requestsDataFrame.groupby('service_name')['TimeDelay'].mean())"
   ]
  },
  {
   "cell_type": "code",
   "execution_count": 337,
   "metadata": {
    "collapsed": false
   },
   "outputs": [
    {
     "data": {
      "text/html": [
       "<div>\n",
       "<table border=\"1\" class=\"dataframe\">\n",
       "  <thead>\n",
       "    <tr style=\"text-align: right;\">\n",
       "      <th></th>\n",
       "      <th>TimeDelay</th>\n",
       "    </tr>\n",
       "    <tr>\n",
       "      <th>service_name</th>\n",
       "      <th></th>\n",
       "    </tr>\n",
       "  </thead>\n",
       "  <tbody>\n",
       "    <tr>\n",
       "      <th>Bridge - Graffiti Complaint</th>\n",
       "      <td>52.931129</td>\n",
       "    </tr>\n",
       "    <tr>\n",
       "      <th>Graffiti</th>\n",
       "      <td>8.380134</td>\n",
       "    </tr>\n",
       "    <tr>\n",
       "      <th>Litter / Bin / Graffiti on Bin</th>\n",
       "      <td>13.318182</td>\n",
       "    </tr>\n",
       "    <tr>\n",
       "      <th>Road - Graffiti Complaint</th>\n",
       "      <td>34.189189</td>\n",
       "    </tr>\n",
       "    <tr>\n",
       "      <th>Road - Pot hole</th>\n",
       "      <td>408.862382</td>\n",
       "    </tr>\n",
       "    <tr>\n",
       "      <th>Sidewalk - Graffiti Complaint</th>\n",
       "      <td>31.931655</td>\n",
       "    </tr>\n",
       "  </tbody>\n",
       "</table>\n",
       "</div>"
      ],
      "text/plain": [
       "                                 TimeDelay\n",
       "service_name                              \n",
       "Bridge - Graffiti Complaint      52.931129\n",
       "Graffiti                          8.380134\n",
       "Litter / Bin / Graffiti on Bin   13.318182\n",
       "Road - Graffiti Complaint        34.189189\n",
       "Road - Pot hole                 408.862382\n",
       "Sidewalk - Graffiti Complaint    31.931655"
      ]
     },
     "execution_count": 337,
     "metadata": {},
     "output_type": "execute_result"
    }
   ],
   "source": [
    "#Expected Number of Days To Complete (Closed Only)\n",
    "pd.DataFrame(requestsDataFrame[requestsDataFrame[\"status\"] == \"closed\"].groupby('service_name')['TimeDelay'].mean())"
   ]
  },
  {
   "cell_type": "code",
   "execution_count": null,
   "metadata": {
    "collapsed": true
   },
   "outputs": [],
   "source": [
    "#map log and lat and then comapre log/lat to time delay"
   ]
  }
 ],
 "metadata": {
  "kernelspec": {
   "display_name": "Python 3",
   "language": "python",
   "name": "python3"
  },
  "language_info": {
   "codemirror_mode": {
    "name": "ipython",
    "version": 3
   },
   "file_extension": ".py",
   "mimetype": "text/x-python",
   "name": "python",
   "nbconvert_exporter": "python",
   "pygments_lexer": "ipython3",
   "version": "3.6.0"
  }
 },
 "nbformat": 4,
 "nbformat_minor": 2
}
