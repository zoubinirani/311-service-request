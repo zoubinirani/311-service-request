{
 "cells": [
  {
   "cell_type": "markdown",
   "metadata": {},
   "source": [
    "### Import Packages"
   ]
  },
  {
   "cell_type": "code",
   "execution_count": 188,
   "metadata": {
    "collapsed": false
   },
   "outputs": [],
   "source": [
    "import numpy as np\n",
    "import pandas as pd\n",
    "import json\n",
    "import requests\n",
    "import matplotlib.pyplot as plt\n",
    "import seaborn as sns\n",
    "import datetime\n",
    "import folium\n",
    "from folium import plugins\n",
    "\n",
    "from pandas.io.json import json_normalize\n",
    "%matplotlib inline"
   ]
  },
  {
   "cell_type": "markdown",
   "metadata": {},
   "source": [
    "### Load 1 Year of Data"
   ]
  },
  {
   "cell_type": "code",
   "execution_count": 2,
   "metadata": {
    "collapsed": false
   },
   "outputs": [],
   "source": [
    "# startDate = \"2017-01-01\"\n",
    "# datelist = pd.date_range(pd.to_datetime(startDate), periods=366).tolist() #1 year of data"
   ]
  },
  {
   "cell_type": "code",
   "execution_count": 3,
   "metadata": {
    "collapsed": false
   },
   "outputs": [],
   "source": [
    "# requestsDataFrame = pd.DataFrame()\n",
    "\n",
    "# for index in range(len(datelist)-1):\n",
    "#     day = str(datelist[index].date())\n",
    "#     nextDay = str(datelist[index+1].date())\n",
    "#     url = \"\"\"https://secure.toronto.ca/webwizard/ws/requests.json?start_date=\"\"\" + day + \"\"\"T00:00:00Z&end_date=\"\"\" + nextDay + \"\"\"T00:00:00Z&jurisdiction_id=toronto.ca\"\"\"\n",
    "#     response = requests.get(url)\n",
    "#     response = json_normalize(response.json()['service_requests'])\n",
    "#     assert response.shape[0] < 1000\n",
    "#     requestsDataFrame = pd.concat([requestsDataFrame, response])"
   ]
  },
  {
   "cell_type": "code",
   "execution_count": 38,
   "metadata": {
    "collapsed": false
   },
   "outputs": [],
   "source": [
    "# requestsDataFrame.to_pickle(\"./rawData.pkl\")"
   ]
  },
  {
   "cell_type": "code",
   "execution_count": 197,
   "metadata": {
    "collapsed": true
   },
   "outputs": [],
   "source": [
    "requestsDataFrame = pd.read_pickle(\"rawData.pkl\")"
   ]
  },
  {
   "cell_type": "markdown",
   "metadata": {},
   "source": [
    "### Basic data cleaning"
   ]
  },
  {
   "cell_type": "code",
   "execution_count": 198,
   "metadata": {
    "collapsed": false
   },
   "outputs": [],
   "source": [
    "requestsDataFrame.reset_index(inplace = True)\n",
    "requestsDataFrame.drop(['index'], axis = 1, inplace = True)"
   ]
  },
  {
   "cell_type": "code",
   "execution_count": 199,
   "metadata": {
    "collapsed": false
   },
   "outputs": [],
   "source": [
    "requestsDataFrame.requested_datetime = pd.to_datetime(requestsDataFrame.requested_datetime).dt.date\n",
    "requestsDataFrame.expected_datetime = pd.to_datetime(requestsDataFrame.expected_datetime).dt.date\n",
    "requestsDataFrame.updated_datetime = pd.to_datetime(requestsDataFrame.updated_datetime).dt.date"
   ]
  },
  {
   "cell_type": "code",
   "execution_count": 200,
   "metadata": {
    "collapsed": false
   },
   "outputs": [],
   "source": [
    "#remove duplicate service_request_id's -> take latest updated datetime\n",
    "rows = requestsDataFrame.groupby(\"service_request_id\")['updated_datetime'].transform(max) == requestsDataFrame['updated_datetime']\n",
    "requestsDataFrame = requestsDataFrame[rows]\n",
    "\n",
    "requestsDataFrame = requestsDataFrame.drop_duplicates()"
   ]
  },
  {
   "cell_type": "markdown",
   "metadata": {},
   "source": [
    "### Assertions"
   ]
  },
  {
   "cell_type": "code",
   "execution_count": 201,
   "metadata": {
    "collapsed": false
   },
   "outputs": [],
   "source": [
    "#check if no duplicate service_request_id's\n",
    "assert requestsDataFrame.shape[0] == len(requestsDataFrame['service_request_id'].unique())"
   ]
  },
  {
   "cell_type": "code",
   "execution_count": 202,
   "metadata": {
    "collapsed": true
   },
   "outputs": [],
   "source": [
    "# Ensure number of days == 365\n",
    "assert len(pd.to_datetime(requestsDataFrame.requested_datetime).dt.date.unique()) == 365"
   ]
  },
  {
   "cell_type": "markdown",
   "metadata": {},
   "source": [
    "### EDA"
   ]
  },
  {
   "cell_type": "code",
   "execution_count": 203,
   "metadata": {
    "collapsed": true
   },
   "outputs": [],
   "source": [
    "columns = [\"service_request_id\", \"lat\", \"long\", \"service_name\", \"requested_datetime\", \"expected_datetime\",\n",
    "           \"updated_datetime\", \"status\", \"status_notes\"]\n",
    "requestsDataFrame = requestsDataFrame[columns]"
   ]
  },
  {
   "cell_type": "code",
   "execution_count": 220,
   "metadata": {
    "collapsed": false
   },
   "outputs": [
    {
     "data": {
      "text/html": [
       "<div>\n",
       "<table border=\"1\" class=\"dataframe\">\n",
       "  <thead>\n",
       "    <tr style=\"text-align: right;\">\n",
       "      <th></th>\n",
       "      <th>service_name</th>\n",
       "    </tr>\n",
       "    <tr>\n",
       "      <th>service_name</th>\n",
       "      <th></th>\n",
       "    </tr>\n",
       "  </thead>\n",
       "  <tbody>\n",
       "    <tr>\n",
       "      <th>Bridge - Graffiti Complaint</th>\n",
       "      <td>363</td>\n",
       "    </tr>\n",
       "    <tr>\n",
       "      <th>Graffiti</th>\n",
       "      <td>2127</td>\n",
       "    </tr>\n",
       "    <tr>\n",
       "      <th>Litter / Bin / Graffiti on Bin</th>\n",
       "      <td>22</td>\n",
       "    </tr>\n",
       "    <tr>\n",
       "      <th>Road - Graffiti Complaint</th>\n",
       "      <td>111</td>\n",
       "    </tr>\n",
       "    <tr>\n",
       "      <th>Road - Pot hole</th>\n",
       "      <td>11511</td>\n",
       "    </tr>\n",
       "    <tr>\n",
       "      <th>Sidewalk - Graffiti Complaint</th>\n",
       "      <td>284</td>\n",
       "    </tr>\n",
       "  </tbody>\n",
       "</table>\n",
       "</div>"
      ],
      "text/plain": [
       "                                service_name\n",
       "service_name                                \n",
       "Bridge - Graffiti Complaint              363\n",
       "Graffiti                                2127\n",
       "Litter / Bin / Graffiti on Bin            22\n",
       "Road - Graffiti Complaint                111\n",
       "Road - Pot hole                        11511\n",
       "Sidewalk - Graffiti Complaint            284"
      ]
     },
     "execution_count": 220,
     "metadata": {},
     "output_type": "execute_result"
    }
   ],
   "source": [
    "pd.DataFrame(requestsDataFrame.groupby('service_name')['service_name'].count())"
   ]
  },
  {
   "cell_type": "code",
   "execution_count": 213,
   "metadata": {
    "collapsed": false
   },
   "outputs": [
    {
     "data": {
      "text/html": [
       "<div>\n",
       "<table border=\"1\" class=\"dataframe\">\n",
       "  <thead>\n",
       "    <tr style=\"text-align: right;\">\n",
       "      <th></th>\n",
       "      <th>0</th>\n",
       "    </tr>\n",
       "  </thead>\n",
       "  <tbody>\n",
       "    <tr>\n",
       "      <th>0</th>\n",
       "      <td>closed</td>\n",
       "    </tr>\n",
       "    <tr>\n",
       "      <th>1</th>\n",
       "      <td>open</td>\n",
       "    </tr>\n",
       "  </tbody>\n",
       "</table>\n",
       "</div>"
      ],
      "text/plain": [
       "        0\n",
       "0  closed\n",
       "1    open"
      ]
     },
     "execution_count": 213,
     "metadata": {},
     "output_type": "execute_result"
    }
   ],
   "source": [
    "pd.DataFrame(requestsDataFrame['status'].unique())"
   ]
  },
  {
   "cell_type": "code",
   "execution_count": 212,
   "metadata": {
    "collapsed": false
   },
   "outputs": [
    {
     "data": {
      "text/html": [
       "<div>\n",
       "<table border=\"1\" class=\"dataframe\">\n",
       "  <thead>\n",
       "    <tr style=\"text-align: right;\">\n",
       "      <th></th>\n",
       "      <th>0</th>\n",
       "    </tr>\n",
       "  </thead>\n",
       "  <tbody>\n",
       "    <tr>\n",
       "      <th>0</th>\n",
       "      <td>Completed - The request has been concluded.</td>\n",
       "    </tr>\n",
       "    <tr>\n",
       "      <th>1</th>\n",
       "      <td>In progress - The request is being investigate...</td>\n",
       "    </tr>\n",
       "    <tr>\n",
       "      <th>2</th>\n",
       "      <td>Cancelled - The request may be a duplicate, wo...</td>\n",
       "    </tr>\n",
       "    <tr>\n",
       "      <th>3</th>\n",
       "      <td>In progress - The request has been scheduled.</td>\n",
       "    </tr>\n",
       "  </tbody>\n",
       "</table>\n",
       "</div>"
      ],
      "text/plain": [
       "                                                   0\n",
       "0        Completed - The request has been concluded.\n",
       "1  In progress - The request is being investigate...\n",
       "2  Cancelled - The request may be a duplicate, wo...\n",
       "3      In progress - The request has been scheduled."
      ]
     },
     "execution_count": 212,
     "metadata": {},
     "output_type": "execute_result"
    }
   ],
   "source": [
    "pd.DataFrame(requestsDataFrame['status_notes'].unique())"
   ]
  },
  {
   "cell_type": "code",
   "execution_count": 171,
   "metadata": {
    "collapsed": false
   },
   "outputs": [
    {
     "data": {
      "text/plain": [
       "0       -79.404203\n",
       "1       -79.400065\n",
       "2       -79.386904\n",
       "3       -79.286311\n",
       "4       -79.385589\n",
       "5       -79.398370\n",
       "6       -79.352485\n",
       "7       -79.494080\n",
       "8       -79.265247\n",
       "9       -79.300042\n",
       "10      -79.251502\n",
       "11      -79.434046\n",
       "12      -79.352485\n",
       "13      -79.434654\n",
       "14      -79.406815\n",
       "15      -79.408519\n",
       "16      -79.339652\n",
       "17      -79.373258\n",
       "18      -79.406532\n",
       "19      -79.200578\n",
       "20      -79.464518\n",
       "21      -79.337722\n",
       "22      -79.390558\n",
       "23      -79.399765\n",
       "24      -79.496774\n",
       "25      -79.324818\n",
       "26      -79.502016\n",
       "27      -79.358419\n",
       "28      -79.434009\n",
       "29      -79.408576\n",
       "           ...    \n",
       "14388   -79.408519\n",
       "14389   -79.270524\n",
       "14390   -79.475066\n",
       "14391   -79.351002\n",
       "14392   -79.359828\n",
       "14393   -79.501506\n",
       "14394   -79.475886\n",
       "14395   -79.403766\n",
       "14396   -79.490618\n",
       "14397   -79.536267\n",
       "14398   -79.414481\n",
       "14399   -79.420087\n",
       "14400   -79.408519\n",
       "14401   -79.400285\n",
       "14402   -79.490367\n",
       "14403   -79.271431\n",
       "14404   -79.489841\n",
       "14405   -79.352485\n",
       "14406   -79.292636\n",
       "14407   -79.287205\n",
       "14408   -79.542384\n",
       "14409   -79.409051\n",
       "14410   -79.271431\n",
       "14411   -79.403376\n",
       "14412   -79.345449\n",
       "14413   -79.388687\n",
       "14414   -79.342114\n",
       "14415   -79.456415\n",
       "14416   -79.261334\n",
       "14417   -79.510317\n",
       "Name: long, dtype: float64"
      ]
     },
     "execution_count": 171,
     "metadata": {},
     "output_type": "execute_result"
    }
   ],
   "source": [
    "requestsDataFrame['long']"
   ]
  },
  {
   "cell_type": "code",
   "execution_count": 52,
   "metadata": {
    "collapsed": false
   },
   "outputs": [
    {
     "data": {
      "text/plain": [
       "array(['Graffiti', 'Road - Pot hole', 'Road - Graffiti Complaint',\n",
       "       'Sidewalk - Graffiti Complaint', 'Bridge - Graffiti Complaint',\n",
       "       'Litter / Bin / Graffiti on Bin'], dtype=object)"
      ]
     },
     "execution_count": 52,
     "metadata": {},
     "output_type": "execute_result"
    }
   ],
   "source": [
    "requestsDataFrame['service_name'].unique()"
   ]
  }
 ],
 "metadata": {
  "kernelspec": {
   "display_name": "Python 3",
   "language": "python",
   "name": "python3"
  },
  "language_info": {
   "codemirror_mode": {
    "name": "ipython",
    "version": 3
   },
   "file_extension": ".py",
   "mimetype": "text/x-python",
   "name": "python",
   "nbconvert_exporter": "python",
   "pygments_lexer": "ipython3",
   "version": "3.6.0"
  }
 },
 "nbformat": 4,
 "nbformat_minor": 2
}
