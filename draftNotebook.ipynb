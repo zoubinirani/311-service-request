{
 "cells": [
  {
   "cell_type": "markdown",
   "metadata": {},
   "source": [
    "### Import Packages"
   ]
  },
  {
   "cell_type": "code",
   "execution_count": 90,
   "metadata": {
    "collapsed": false
   },
   "outputs": [],
   "source": [
    "import numpy as np\n",
    "import pandas as pd\n",
    "import json\n",
    "import requests\n",
    "import matplotlib\n",
    "import matplotlib.pyplot as plt\n",
    "import matplotlib.dates as mdates\n",
    "import seaborn as sns\n",
    "import datetime\n",
    "import folium\n",
    "from folium import plugins\n",
    "from matplotlib.dates import DateFormatter\n",
    "import matplotlib.dates as mdates\n",
    "\n",
    "from pandas.io.json import json_normalize\n",
    "%matplotlib inline"
   ]
  },
  {
   "cell_type": "markdown",
   "metadata": {},
   "source": [
    "### Load 1 Year of Data"
   ]
  },
  {
   "cell_type": "code",
   "execution_count": 2,
   "metadata": {
    "collapsed": false
   },
   "outputs": [],
   "source": [
    "# startDate = \"2017-01-01\"\n",
    "# datelist = pd.date_range(pd.to_datetime(startDate), periods=366).tolist() #1 year of data"
   ]
  },
  {
   "cell_type": "code",
   "execution_count": 3,
   "metadata": {
    "collapsed": false
   },
   "outputs": [],
   "source": [
    "# requestsDataFrame = pd.DataFrame()\n",
    "\n",
    "# for index in range(len(datelist)-1):\n",
    "#     day = str(datelist[index].date())\n",
    "#     nextDay = str(datelist[index+1].date())\n",
    "#     url = \"\"\"https://secure.toronto.ca/webwizard/ws/requests.json?start_date=\"\"\" + day + \"\"\"T00:00:00Z&end_date=\"\"\" + nextDay + \"\"\"T00:00:00Z&jurisdiction_id=toronto.ca\"\"\"\n",
    "#     response = requests.get(url)\n",
    "#     response = json_normalize(response.json()['service_requests'])\n",
    "#     assert response.shape[0] < 1000\n",
    "#     requestsDataFrame = pd.concat([requestsDataFrame, response])"
   ]
  },
  {
   "cell_type": "code",
   "execution_count": 4,
   "metadata": {
    "collapsed": false
   },
   "outputs": [],
   "source": [
    "# requestsDataFrame.to_pickle(\"./rawData.pkl\")"
   ]
  },
  {
   "cell_type": "code",
   "execution_count": 5,
   "metadata": {
    "collapsed": true
   },
   "outputs": [],
   "source": [
    "requestsDataFrame = pd.read_pickle(\"rawData.pkl\")"
   ]
  },
  {
   "cell_type": "markdown",
   "metadata": {},
   "source": [
    "### Basic data cleaning"
   ]
  },
  {
   "cell_type": "code",
   "execution_count": 6,
   "metadata": {
    "collapsed": false
   },
   "outputs": [],
   "source": [
    "requestsDataFrame.reset_index(inplace = True)\n",
    "requestsDataFrame.drop(['index'], axis = 1, inplace = True)"
   ]
  },
  {
   "cell_type": "code",
   "execution_count": 7,
   "metadata": {
    "collapsed": false
   },
   "outputs": [],
   "source": [
    "requestsDataFrame.requested_datetime = pd.to_datetime(requestsDataFrame.requested_datetime)\n",
    "requestsDataFrame.expected_datetime = pd.to_datetime(requestsDataFrame.expected_datetime)\n",
    "requestsDataFrame.updated_datetime = pd.to_datetime(requestsDataFrame.updated_datetime)"
   ]
  },
  {
   "cell_type": "code",
   "execution_count": 8,
   "metadata": {
    "collapsed": false
   },
   "outputs": [],
   "source": [
    "#remove duplicate service_request_id's -> take latest updated datetime\n",
    "rows = requestsDataFrame.groupby(\"service_request_id\")['updated_datetime'].transform(max) == requestsDataFrame['updated_datetime']\n",
    "requestsDataFrame = requestsDataFrame[rows]"
   ]
  },
  {
   "cell_type": "code",
   "execution_count": 9,
   "metadata": {
    "collapsed": true
   },
   "outputs": [],
   "source": [
    "columns = [\"service_request_id\", \"lat\", \"long\", \"service_name\", \"requested_datetime\", \"expected_datetime\",\n",
    "           \"updated_datetime\", \"status\", \"status_notes\"]\n",
    "requestsDataFrame = requestsDataFrame[columns]\n",
    "requestsDataFrame = requestsDataFrame.dropna()\n",
    "requestsDataFrame = requestsDataFrame.drop_duplicates()"
   ]
  },
  {
   "cell_type": "markdown",
   "metadata": {},
   "source": [
    "### Assertions"
   ]
  },
  {
   "cell_type": "code",
   "execution_count": 10,
   "metadata": {
    "collapsed": false
   },
   "outputs": [],
   "source": [
    "#check if no duplicate service_request_id's\n",
    "assert requestsDataFrame.shape[0] == len(requestsDataFrame['service_request_id'].unique())"
   ]
  },
  {
   "cell_type": "code",
   "execution_count": 11,
   "metadata": {
    "collapsed": false
   },
   "outputs": [],
   "source": [
    "# Ensure number of days == 365\n",
    "assert len(pd.to_datetime(requestsDataFrame.requested_datetime).dt.date.unique()) == 365"
   ]
  },
  {
   "cell_type": "markdown",
   "metadata": {},
   "source": [
    "### EDA"
   ]
  },
  {
   "cell_type": "code",
   "execution_count": 12,
   "metadata": {
    "collapsed": false
   },
   "outputs": [
    {
     "data": {
      "text/html": [
       "<div>\n",
       "<table border=\"1\" class=\"dataframe\">\n",
       "  <thead>\n",
       "    <tr style=\"text-align: right;\">\n",
       "      <th></th>\n",
       "      <th>service_name</th>\n",
       "    </tr>\n",
       "    <tr>\n",
       "      <th>service_name</th>\n",
       "      <th></th>\n",
       "    </tr>\n",
       "  </thead>\n",
       "  <tbody>\n",
       "    <tr>\n",
       "      <th>Bridge - Graffiti Complaint</th>\n",
       "      <td>349</td>\n",
       "    </tr>\n",
       "    <tr>\n",
       "      <th>Graffiti</th>\n",
       "      <td>2120</td>\n",
       "    </tr>\n",
       "    <tr>\n",
       "      <th>Litter / Bin / Graffiti on Bin</th>\n",
       "      <td>22</td>\n",
       "    </tr>\n",
       "    <tr>\n",
       "      <th>Road - Graffiti Complaint</th>\n",
       "      <td>111</td>\n",
       "    </tr>\n",
       "    <tr>\n",
       "      <th>Road - Pot hole</th>\n",
       "      <td>11489</td>\n",
       "    </tr>\n",
       "    <tr>\n",
       "      <th>Sidewalk - Graffiti Complaint</th>\n",
       "      <td>284</td>\n",
       "    </tr>\n",
       "  </tbody>\n",
       "</table>\n",
       "</div>"
      ],
      "text/plain": [
       "                                service_name\n",
       "service_name                                \n",
       "Bridge - Graffiti Complaint              349\n",
       "Graffiti                                2120\n",
       "Litter / Bin / Graffiti on Bin            22\n",
       "Road - Graffiti Complaint                111\n",
       "Road - Pot hole                        11489\n",
       "Sidewalk - Graffiti Complaint            284"
      ]
     },
     "execution_count": 12,
     "metadata": {},
     "output_type": "execute_result"
    }
   ],
   "source": [
    "pd.DataFrame(requestsDataFrame.groupby('service_name')['service_name'].agg(len))"
   ]
  },
  {
   "cell_type": "code",
   "execution_count": 13,
   "metadata": {
    "collapsed": false
   },
   "outputs": [
    {
     "data": {
      "text/html": [
       "<div>\n",
       "<table border=\"1\" class=\"dataframe\">\n",
       "  <thead>\n",
       "    <tr style=\"text-align: right;\">\n",
       "      <th></th>\n",
       "      <th></th>\n",
       "      <th>status</th>\n",
       "    </tr>\n",
       "    <tr>\n",
       "      <th>service_name</th>\n",
       "      <th>status</th>\n",
       "      <th></th>\n",
       "    </tr>\n",
       "  </thead>\n",
       "  <tbody>\n",
       "    <tr>\n",
       "      <th>Bridge - Graffiti Complaint</th>\n",
       "      <th>closed</th>\n",
       "      <td>349</td>\n",
       "    </tr>\n",
       "    <tr>\n",
       "      <th rowspan=\"2\" valign=\"top\">Graffiti</th>\n",
       "      <th>closed</th>\n",
       "      <td>2088</td>\n",
       "    </tr>\n",
       "    <tr>\n",
       "      <th>open</th>\n",
       "      <td>32</td>\n",
       "    </tr>\n",
       "    <tr>\n",
       "      <th>Litter / Bin / Graffiti on Bin</th>\n",
       "      <th>closed</th>\n",
       "      <td>22</td>\n",
       "    </tr>\n",
       "    <tr>\n",
       "      <th>Road - Graffiti Complaint</th>\n",
       "      <th>closed</th>\n",
       "      <td>111</td>\n",
       "    </tr>\n",
       "    <tr>\n",
       "      <th rowspan=\"2\" valign=\"top\">Road - Pot hole</th>\n",
       "      <th>closed</th>\n",
       "      <td>11321</td>\n",
       "    </tr>\n",
       "    <tr>\n",
       "      <th>open</th>\n",
       "      <td>168</td>\n",
       "    </tr>\n",
       "    <tr>\n",
       "      <th rowspan=\"2\" valign=\"top\">Sidewalk - Graffiti Complaint</th>\n",
       "      <th>closed</th>\n",
       "      <td>278</td>\n",
       "    </tr>\n",
       "    <tr>\n",
       "      <th>open</th>\n",
       "      <td>6</td>\n",
       "    </tr>\n",
       "  </tbody>\n",
       "</table>\n",
       "</div>"
      ],
      "text/plain": [
       "                                       status\n",
       "service_name                   status        \n",
       "Bridge - Graffiti Complaint    closed     349\n",
       "Graffiti                       closed    2088\n",
       "                               open        32\n",
       "Litter / Bin / Graffiti on Bin closed      22\n",
       "Road - Graffiti Complaint      closed     111\n",
       "Road - Pot hole                closed   11321\n",
       "                               open       168\n",
       "Sidewalk - Graffiti Complaint  closed     278\n",
       "                               open         6"
      ]
     },
     "execution_count": 13,
     "metadata": {},
     "output_type": "execute_result"
    }
   ],
   "source": [
    "pd.DataFrame(requestsDataFrame.groupby(['service_name', 'status'])['status'].agg(len))"
   ]
  },
  {
   "cell_type": "code",
   "execution_count": 14,
   "metadata": {
    "collapsed": false
   },
   "outputs": [
    {
     "data": {
      "text/html": [
       "<div>\n",
       "<table border=\"1\" class=\"dataframe\">\n",
       "  <thead>\n",
       "    <tr style=\"text-align: right;\">\n",
       "      <th></th>\n",
       "      <th>status_notes</th>\n",
       "    </tr>\n",
       "    <tr>\n",
       "      <th>status_notes</th>\n",
       "      <th></th>\n",
       "    </tr>\n",
       "  </thead>\n",
       "  <tbody>\n",
       "    <tr>\n",
       "      <th>Cancelled - The request may be a duplicate, work is previously scheduled or no work is required.</th>\n",
       "      <td>363</td>\n",
       "    </tr>\n",
       "    <tr>\n",
       "      <th>Completed - The request has been concluded.</th>\n",
       "      <td>13806</td>\n",
       "    </tr>\n",
       "    <tr>\n",
       "      <th>In progress - The request has been scheduled.</th>\n",
       "      <td>30</td>\n",
       "    </tr>\n",
       "    <tr>\n",
       "      <th>In progress - The request is being investigated, assessed and/or responded to; additional work may be required, if applicable.</th>\n",
       "      <td>176</td>\n",
       "    </tr>\n",
       "  </tbody>\n",
       "</table>\n",
       "</div>"
      ],
      "text/plain": [
       "                                                    status_notes\n",
       "status_notes                                                    \n",
       "Cancelled - The request may be a duplicate, wor...           363\n",
       "Completed - The request has been concluded.                13806\n",
       "In progress - The request has been scheduled.                 30\n",
       "In progress - The request is being investigated...           176"
      ]
     },
     "execution_count": 14,
     "metadata": {},
     "output_type": "execute_result"
    }
   ],
   "source": [
    "pd.DataFrame(requestsDataFrame.groupby('status_notes')['status_notes'].agg(len))"
   ]
  },
  {
   "cell_type": "code",
   "execution_count": 132,
   "metadata": {
    "collapsed": false
   },
   "outputs": [
    {
     "data": {
      "image/png": "[encoded data removed]",
      "text/plain": [
       "<matplotlib.figure.Figure at 0x7f36c4303828>"
      ]
     },
     "metadata": {},
     "output_type": "display_data"
    }
   ],
   "source": [
    "#Histogram of Requested Datetime\n",
    "histogram_plot(data=requestsDataFrame, column_name=\"requested_datetime\", period=\"2W\",\n",
    "               plot_title = \"Histogram of Requested Date\", xaxis_label = \"Date\", yaxis_label = \"Count\")"
   ]
  },
  {
   "cell_type": "code",
   "execution_count": 169,
   "metadata": {
    "collapsed": false
   },
   "outputs": [
    {
     "data": {
      "image/png": "[encoded data removed]",
      "text/plain": [
       "<matplotlib.figure.Figure at 0x7f36c428cc88>"
      ]
     },
     "metadata": {},
     "output_type": "display_data"
    }
   ],
   "source": [
    "#Histogram of Expected Datetime\n",
    "histogram_plot(data=requestsDataFrame, column_name=\"expected_datetime\", period=\"3M\",\n",
    "               plot_title = \"Histogram of Expected Date\", xaxis_label = \"Date\", yaxis_label = \"Count\")"
   ]
  },
  {
   "cell_type": "code",
   "execution_count": 133,
   "metadata": {
    "collapsed": false
   },
   "outputs": [
    {
     "data": {
      "image/png": "[encoded data removed]",
      "text/plain": [
       "<matplotlib.figure.Figure at 0x7f36c4190ba8>"
      ]
     },
     "metadata": {},
     "output_type": "display_data"
    }
   ],
   "source": [
    "#Histogram of Updated Datetime\n",
    "histogram_plot(data=requestsDataFrame, column_name=\"updated_datetime\", period=\"1M\",\n",
    "               plot_title = \"Histogram of Updated Date\", xaxis_label = \"Date\", yaxis_label = \"Count\")"
   ]
  },
  {
   "cell_type": "code",
   "execution_count": 180,
   "metadata": {
    "collapsed": false
   },
   "outputs": [
    {
     "data": {
      "text/plain": [
       "<matplotlib.text.Text at 0x7f36b32606a0>"
      ]
     },
     "execution_count": 180,
     "metadata": {},
     "output_type": "execute_result"
    },
    {
     "data": {
      "image/png": "[encoded data removed]",
      "text/plain": [
       "<matplotlib.figure.Figure at 0x7f36b3641c50>"
      ]
     },
     "metadata": {},
     "output_type": "display_data"
    }
   ],
   "source": [
    "#Count of Time Delay In Days (expected time vs. requestedtime)\n",
    "requestsDataFrame['TimeDelay'] = requestsDataFrame['expected_datetime']-requestsDataFrame['requested_datetime']\n",
    "requestsDataFrame['TimeDelay'] = requestsDataFrame['TimeDelay'].dt.days\n",
    "\n",
    "fig, ax = plt.subplots(figsize=(8, 6))\n",
    "plt.hist(requestsDataFrame['TimeDelay'].values, bins = 50)\n",
    "ax.set_title(\"Delay Between Requested Date and Expected Date\", fontsize = 14)\n",
    "ax.set_xlabel(\"# of Days\", fontsize = 12)\n",
    "ax.set_ylabel(\"Count\", fontsize = 12)    "
   ]
  },
  {
   "cell_type": "code",
   "execution_count": 181,
   "metadata": {
    "collapsed": false
   },
   "outputs": [
    {
     "data": {
      "text/html": [
       "<div>\n",
       "<table border=\"1\" class=\"dataframe\">\n",
       "  <thead>\n",
       "    <tr style=\"text-align: right;\">\n",
       "      <th></th>\n",
       "      <th>TimeDelay</th>\n",
       "    </tr>\n",
       "    <tr>\n",
       "      <th>service_name</th>\n",
       "      <th></th>\n",
       "    </tr>\n",
       "  </thead>\n",
       "  <tbody>\n",
       "    <tr>\n",
       "      <th>Bridge - Graffiti Complaint</th>\n",
       "      <td>53.000000</td>\n",
       "    </tr>\n",
       "    <tr>\n",
       "      <th>Graffiti</th>\n",
       "      <td>7.482547</td>\n",
       "    </tr>\n",
       "    <tr>\n",
       "      <th>Litter / Bin / Graffiti on Bin</th>\n",
       "      <td>13.272727</td>\n",
       "    </tr>\n",
       "    <tr>\n",
       "      <th>Road - Graffiti Complaint</th>\n",
       "      <td>34.135135</td>\n",
       "    </tr>\n",
       "    <tr>\n",
       "      <th>Road - Pot hole</th>\n",
       "      <td>419.353730</td>\n",
       "    </tr>\n",
       "    <tr>\n",
       "      <th>Sidewalk - Graffiti Complaint</th>\n",
       "      <td>33.105634</td>\n",
       "    </tr>\n",
       "  </tbody>\n",
       "</table>\n",
       "</div>"
      ],
      "text/plain": [
       "                                 TimeDelay\n",
       "service_name                              \n",
       "Bridge - Graffiti Complaint      53.000000\n",
       "Graffiti                          7.482547\n",
       "Litter / Bin / Graffiti on Bin   13.272727\n",
       "Road - Graffiti Complaint        34.135135\n",
       "Road - Pot hole                 419.353730\n",
       "Sidewalk - Graffiti Complaint    33.105634"
      ]
     },
     "execution_count": 181,
     "metadata": {},
     "output_type": "execute_result"
    }
   ],
   "source": [
    "#Expected Number of Days To Complete\n",
    "pd.DataFrame(requestsDataFrame.groupby('service_name')['TimeDelay'].agg(\"mean\"))"
   ]
  },
  {
   "cell_type": "code",
   "execution_count": 182,
   "metadata": {
    "collapsed": false
   },
   "outputs": [
    {
     "data": {
      "text/html": [
       "<div>\n",
       "<table border=\"1\" class=\"dataframe\">\n",
       "  <thead>\n",
       "    <tr style=\"text-align: right;\">\n",
       "      <th></th>\n",
       "      <th>TimeDelay</th>\n",
       "    </tr>\n",
       "    <tr>\n",
       "      <th>service_name</th>\n",
       "      <th></th>\n",
       "    </tr>\n",
       "  </thead>\n",
       "  <tbody>\n",
       "    <tr>\n",
       "      <th>Bridge - Graffiti Complaint</th>\n",
       "      <td>53.000000</td>\n",
       "    </tr>\n",
       "    <tr>\n",
       "      <th>Graffiti</th>\n",
       "      <td>7.477969</td>\n",
       "    </tr>\n",
       "    <tr>\n",
       "      <th>Litter / Bin / Graffiti on Bin</th>\n",
       "      <td>13.272727</td>\n",
       "    </tr>\n",
       "    <tr>\n",
       "      <th>Road - Graffiti Complaint</th>\n",
       "      <td>34.135135</td>\n",
       "    </tr>\n",
       "    <tr>\n",
       "      <th>Road - Pot hole</th>\n",
       "      <td>409.390602</td>\n",
       "    </tr>\n",
       "    <tr>\n",
       "      <th>Sidewalk - Graffiti Complaint</th>\n",
       "      <td>31.866906</td>\n",
       "    </tr>\n",
       "  </tbody>\n",
       "</table>\n",
       "</div>"
      ],
      "text/plain": [
       "                                 TimeDelay\n",
       "service_name                              \n",
       "Bridge - Graffiti Complaint      53.000000\n",
       "Graffiti                          7.477969\n",
       "Litter / Bin / Graffiti on Bin   13.272727\n",
       "Road - Graffiti Complaint        34.135135\n",
       "Road - Pot hole                 409.390602\n",
       "Sidewalk - Graffiti Complaint    31.866906"
      ]
     },
     "execution_count": 182,
     "metadata": {},
     "output_type": "execute_result"
    }
   ],
   "source": [
    "#Expected Number of Days To Complete (Closed Only)\n",
    "pd.DataFrame(requestsDataFrame[requestsDataFrame[\"status\"] == \"closed\"].groupby('service_name')['TimeDelay'].agg(\"mean\"))"
   ]
  },
  {
   "cell_type": "code",
   "execution_count": 183,
   "metadata": {
    "collapsed": false
   },
   "outputs": [
    {
     "data": {
      "text/html": [
       "<div>\n",
       "<table border=\"1\" class=\"dataframe\">\n",
       "  <thead>\n",
       "    <tr style=\"text-align: right;\">\n",
       "      <th></th>\n",
       "      <th>TimeDelay</th>\n",
       "    </tr>\n",
       "    <tr>\n",
       "      <th>service_name</th>\n",
       "      <th></th>\n",
       "    </tr>\n",
       "  </thead>\n",
       "  <tbody>\n",
       "    <tr>\n",
       "      <th>Graffiti</th>\n",
       "      <td>7.781250</td>\n",
       "    </tr>\n",
       "    <tr>\n",
       "      <th>Road - Pot hole</th>\n",
       "      <td>1090.738095</td>\n",
       "    </tr>\n",
       "    <tr>\n",
       "      <th>Sidewalk - Graffiti Complaint</th>\n",
       "      <td>90.500000</td>\n",
       "    </tr>\n",
       "  </tbody>\n",
       "</table>\n",
       "</div>"
      ],
      "text/plain": [
       "                                 TimeDelay\n",
       "service_name                              \n",
       "Graffiti                          7.781250\n",
       "Road - Pot hole                1090.738095\n",
       "Sidewalk - Graffiti Complaint    90.500000"
      ]
     },
     "execution_count": 183,
     "metadata": {},
     "output_type": "execute_result"
    }
   ],
   "source": [
    "#Expected Number of Days To Complete (Open Only)\n",
    "pd.DataFrame(requestsDataFrame[requestsDataFrame[\"status\"] == \"open\"].groupby('service_name')['TimeDelay'].agg(\"mean\"))"
   ]
  },
  {
   "cell_type": "code",
   "execution_count": null,
   "metadata": {
    "collapsed": true
   },
   "outputs": [],
   "source": [
    "#log and lat and then comapre log/lat to time delay"
   ]
  },
  {
   "cell_type": "code",
   "execution_count": null,
   "metadata": {
    "collapsed": false
   },
   "outputs": [],
   "source": [
    "#map first point\n",
    "points = requestsDataFrame[['lat', 'long']].as_matrix()\n",
    "m = folium.Map([points[:, 0].mean(), points[:, 1].mean()], zoom_start=11)\n",
    "m.add_child(plugins.HeatMap(points, radius=15))\n",
    "m"
   ]
  },
  {
   "cell_type": "markdown",
   "metadata": {},
   "source": [
    "### Helper Functions"
   ]
  },
  {
   "cell_type": "code",
   "execution_count": 168,
   "metadata": {
    "collapsed": true
   },
   "outputs": [],
   "source": [
    "def histogram_plot(data, column_name, period, plot_title, xaxis_label, yaxis_label):\n",
    "    data = pd.DataFrame(requestsDataFrame[column_name])\n",
    "    data.set_index(column_name, drop=False, inplace=True)\n",
    "    \n",
    "    ax = data.groupby(pd.TimeGrouper(freq=period)).count().plot(kind='bar')\n",
    "\n",
    "    xlabel = []\n",
    "    for d in ax.get_xticklabels():\n",
    "        date = datetime.datetime.strptime(d.get_text(), '%Y-%m-%d %H:%M:%S')\n",
    "        xlabel.append(date.strftime(\"%Y-%m-%d\"))\n",
    "\n",
    "    ax.set_xticklabels(xlabel)\n",
    "    \n",
    "    ax.set_title(plot_title, fontsize = 15)\n",
    "    ax.set_xlabel(xaxis_label, fontsize = 12)\n",
    "    ax.set_ylabel(yaxis_label, fontsize = 12)    "
   ]
  }
 ],
 "metadata": {
  "kernelspec": {
   "display_name": "Python 3",
   "language": "python",
   "name": "python3"
  },
  "language_info": {
   "codemirror_mode": {
    "name": "ipython",
    "version": 3
   },
   "file_extension": ".py",
   "mimetype": "text/x-python",
   "name": "python",
   "nbconvert_exporter": "python",
   "pygments_lexer": "ipython3",
   "version": "3.6.0"
  }
 },
 "nbformat": 4,
 "nbformat_minor": 2
}
